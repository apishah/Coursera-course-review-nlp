{
 "cells": [
  {
   "cell_type": "markdown",
   "id": "d848e101",
   "metadata": {},
   "source": [
    "## Scrapping reviews for courses"
   ]
  },
  {
   "cell_type": "code",
   "execution_count": null,
   "id": "3dec83a4",
   "metadata": {},
   "outputs": [],
   "source": [
    "import csv,requests\n",
    "from selenium import webdriver\n",
    "from selenium.webdriver.common.by import By\n",
    "from webdriver_manager.chrome import ChromeDriverManager\n",
    "from selenium.webdriver.support.ui import WebDriverWait\n",
    "from selenium.webdriver.support import expected_conditions as EC\n",
    "from bs4 import BeautifulSoup\n",
    "import pandas as pd\n",
    "import multiprocessing as mp\n",
    "chromeOptions = webdriver.ChromeOptions()\n",
    "chromeOptions.add_argument(\"--remote-debugging-port=9222\")"
   ]
  },
  {
   "cell_type": "code",
   "execution_count": null,
   "id": "3da7d4a1",
   "metadata": {},
   "outputs": [],
   "source": [
    "subject_list = [\"Math and Logic\" , \"Personal Development\",\"Arts and Humanities\" ,\"Social Sciences\",\"Language Learning\",\"Health\"]\n"
   ]
  },
  {
   "cell_type": "code",
   "execution_count": null,
   "id": "104bd1de",
   "metadata": {},
   "outputs": [],
   "source": [
    "def scrapper(obj):\n",
    "    ob = obj[1]\n",
    "    review_df = pd.DataFrame()\n",
    "    driver = webdriver.Chrome(ChromeDriverManager().install())\n",
    "    course = driver.get(\"{}\".format(ob[\"course_link\"]) + \"/reviews\")\n",
    "    try:\n",
    "        count = int(driver.find_element(By.XPATH,\"//a[contains(@data,'right-arrow')]/parent::li/preceding-sibling::li[1]/a/span\").text)\n",
    "    except:\n",
    "        count = 1\n",
    "    print(count)\n",
    "    while count > 0:\n",
    "        count -= 1\n",
    "        try:\n",
    "            review_list = driver.find_elements(By.XPATH, \"//div[contains(@class,'review-text')]\")\n",
    "            for review in review_list:\n",
    "                soup = BeautifulSoup(review.get_attribute('innerHTML'), 'html.parser')\n",
    "                review_star = soup.find_all('title', string=\"Filled Star\")\n",
    "                review_text = soup.find('div',class_=\"reviewText\").text\n",
    "                review_df = review_df.append({\"star\":len(review_star),\"review\":review_text,\"course_id\":ob[\"course_id\"]},ignore_index=True)\n",
    "            if count > 1:\n",
    "                driver.find_element(By.XPATH, \"//a[contains(@data,'right-arrow')]\").click()\n",
    "                wait = WebDriverWait(driver, 7)\n",
    "                element = wait.until(EC.element_to_be_clickable((By.XPATH, \"//a[contains(@data,'right-arrow')]\")))\n",
    "            print(\"review: \",review_df.shape[0])\n",
    "        except Exception as e:\n",
    "            print(\"Exception\")\n",
    "            print(ob[\"course_id\"])\n",
    "            print(count)\n",
    "            print(e)\n",
    "    print(\"end\")\n",
    "    review_df.to_csv(r\"Final_reviews.csv\", index=False,mode='a', header=False)\n"
   ]
  },
  {
   "cell_type": "code",
   "execution_count": null,
   "id": "0d7fb276",
   "metadata": {},
   "outputs": [],
   "source": [
    "pool = mp.Pool(5)\n",
    "for subject in subject_list:\n",
    "    csv_file = pd.read_csv(r\"course_link\\{}.csv\".format(subject))\n",
    "    pool.map(scrapper, list(csv_file.iterrows()))"
   ]
  },
  {
   "cell_type": "code",
   "execution_count": null,
   "id": "65f6c204",
   "metadata": {},
   "outputs": [],
   "source": []
  }
 ],
 "metadata": {
  "kernelspec": {
   "display_name": "Python 3 (ipykernel)",
   "language": "python",
   "name": "python3"
  },
  "language_info": {
   "codemirror_mode": {
    "name": "ipython",
    "version": 3
   },
   "file_extension": ".py",
   "mimetype": "text/x-python",
   "name": "python",
   "nbconvert_exporter": "python",
   "pygments_lexer": "ipython3",
   "version": "3.10.0"
  }
 },
 "nbformat": 4,
 "nbformat_minor": 5
}
