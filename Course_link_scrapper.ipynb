{
 "cells": [
  {
   "cell_type": "markdown",
   "id": "c5f70f37",
   "metadata": {},
   "source": [
    "## scrapping Coursera course links for different subjects."
   ]
  },
  {
   "cell_type": "code",
   "execution_count": null,
   "id": "ec2fc0ee",
   "metadata": {},
   "outputs": [],
   "source": [
    "import csv \n",
    "from selenium import webdriver\n",
    "from selenium.webdriver.common.by import By\n",
    "from webdriver_manager.chrome import ChromeDriverManager\n",
    "from selenium.webdriver.support.ui import WebDriverWait\n",
    "from selenium.webdriver.support import expected_conditions as EC\n"
   ]
  },
  {
   "cell_type": "code",
   "execution_count": null,
   "id": "a2fd19b6",
   "metadata": {},
   "outputs": [],
   "source": [
    "chromeOptions = webdriver.ChromeOptions()\n",
    "chromeOptions.add_argument(\"--remote-debugging-port=9708\")\n",
    "chromeOptions.add_experimental_option('excludeSwitches', ['enable-logging'])\n",
    "driver = webdriver.Chrome(ChromeDriverManager().install(),options=chromeOptions)\n",
    "driver.maximize_window()\n",
    "dict_subject = {}\n",
    "driver.set_script_timeout(120)\n",
    "driver.set_page_load_timeout(90)\n",
    "\n",
    "# \"Personal Development\",\"Math and Logic\",\"Physical Science and Engineering\",\"Arts and Humanities\",\"Language Learning\",\"Health\", \"Social Sciences\"\n",
    "\n"
   ]
  },
  {
   "cell_type": "code",
   "execution_count": null,
   "id": "efbc8b0a",
   "metadata": {},
   "outputs": [],
   "source": [
    "subject_list = [\"Math and Logic\" , \"Personal Development\",\"Arts and Humanities\" ,\"Social Sciences\",\"Language Learning\",\"Health\"]\n",
    "\n",
    "def link_append(driver_obj,links):\n",
    "\tfor i in driver_obj:\n",
    "\t\tlinks.append(i.get_attribute('href'))\n",
    "        "
   ]
  },
  {
   "cell_type": "code",
   "execution_count": null,
   "id": "77286511",
   "metadata": {},
   "outputs": [],
   "source": [
    "for subject in subject_list:\n",
    "\tcount = 8\n",
    "\tdriver.get(\"https://www.coursera.org/search?query=courses&index=prod_all_launched_products_term_optimization&topic={}\".format(subject))\n",
    "\twait = WebDriverWait(driver, 20)\n",
    "\twait.until(EC.element_to_be_clickable((By.XPATH, \"//a[contains(@class,'result-title-link')]\")))\n",
    "\tlinks = [] \n",
    "\n",
    "\tprint(subject)\n",
    "\n",
    "\twhile count > 0:\n",
    "\t\tcount -= 1\n",
    "\t\tx = driver.find_elements(By.XPATH, \"//a[contains(@class,'result-title-link')]\")\n",
    "\t\tlink_append(x,links)\n",
    "\t\tif count != 1:\n",
    "\t\t\tdriver.find_element(By.XPATH, \"//button[contains(@data-e2e,'pagination-controls-next')]\").click()\n",
    "\t\t\twait = WebDriverWait(driver, 7)\n",
    "\t\t\telement = wait.until(EC.element_to_be_clickable((By.XPATH, \"//button[contains(@data-e2e,'pagination-controls-next')]\")))\n",
    "\t\t\tif count == 40 or count == 20 :\n",
    "\t\t\t\tdriver.implicitly_wait(30)\n",
    "\tdict_subject[subject] = links\n",
    "\tprint(len(links))\n",
    "\n",
    "for key, value in dict_subject.items():\n",
    "\twith open('course_link\\{}.csv'.format(key), 'w', newline='') as file:\n",
    "\t\tfor i in value:\n",
    "\t\t\tfile.write(i)\n",
    "\t\t\tfile.write(\"\\n\")\n",
    "\n",
    "print(len(dict_subject))\n",
    "driver.quit()"
   ]
  },
  {
   "cell_type": "code",
   "execution_count": null,
   "id": "5f8cff1c",
   "metadata": {},
   "outputs": [],
   "source": []
  }
 ],
 "metadata": {
  "kernelspec": {
   "display_name": "Python 3 (ipykernel)",
   "language": "python",
   "name": "python3"
  },
  "language_info": {
   "codemirror_mode": {
    "name": "ipython",
    "version": 3
   },
   "file_extension": ".py",
   "mimetype": "text/x-python",
   "name": "python",
   "nbconvert_exporter": "python",
   "pygments_lexer": "ipython3",
   "version": "3.10.0"
  }
 },
 "nbformat": 4,
 "nbformat_minor": 5
}
